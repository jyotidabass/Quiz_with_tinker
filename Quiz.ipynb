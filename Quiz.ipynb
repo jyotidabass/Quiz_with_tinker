{
  "nbformat": 4,
  "nbformat_minor": 0,
  "metadata": {
    "colab": {
      "name": "Quiz.ipynb",
      "provenance": [],
      "authorship_tag": "ABX9TyPs6UD0pN0fbxX6p2hhWSYi",
      "include_colab_link": true
    },
    "kernelspec": {
      "name": "python3",
      "display_name": "Python 3"
    },
    "language_info": {
      "name": "python"
    }
  },
  "cells": [
    {
      "cell_type": "markdown",
      "metadata": {
        "id": "view-in-github",
        "colab_type": "text"
      },
      "source": [
        "<a href=\"https://colab.research.google.com/github/jyotidabass/Quiz_with_tinker/blob/main/Quiz.ipynb\" target=\"_parent\"><img src=\"https://colab.research.google.com/assets/colab-badge.svg\" alt=\"Open In Colab\"/></a>"
      ]
    },
    {
      "cell_type": "code",
      "execution_count": null,
      "metadata": {
        "colab": {
          "base_uri": "https://localhost:8080/"
        },
        "id": "2skjqi6fQthg",
        "outputId": "d3a65ed0-0828-48b8-acdc-33c27afe641d"
      },
      "outputs": [
        {
          "output_type": "stream",
          "name": "stdout",
          "text": [
            "fatal: destination path 'quiz-application' already exists and is not an empty directory.\n"
          ]
        }
      ],
      "source": [
        "!git clone https://github.com/oluwatbi/quiz-application.git"
      ]
    },
    {
      "cell_type": "code",
      "source": [
        "from tkinter import Tk, Frame, Label, Button\n",
        "\n",
        "\n",
        "class Question:\n",
        "    def __init__(self, question, answers, correctLetter):\n",
        "        self.question = question\n",
        "        self.answers = answers\n",
        "        self.correctLetter = correctLetter\n",
        "\n",
        "    def check(self, letter, view):\n",
        "        global right\n",
        "        if(letter == self.correctLetter):\n",
        "            label = Label(view, text=\"Right!\")\n",
        "            right += 1\n",
        "        else:\n",
        "            label = Label(view, text=\"Wrong!\")\n",
        "        label.pack()\n",
        "        view.after(1000, lambda *args: self.unpackView(view))\n",
        "\n",
        "    def getView(self, window):\n",
        "        view = Frame(window)\n",
        "        Label(view, text=self.question).pack()\n",
        "        Button(view, text=self.answers[0], command=lambda *args:         self.check(\"A\", view)).pack()\n",
        "        Button(view, text=self.answers[1], command=lambda *args: self.check(\"B\", view)).pack()\n",
        "        Button(view, text=self.answers[2], command=lambda *args: self.check(\"C\", view)).pack()\n",
        "        Button(view, text=self.answers[3], command=lambda *args: self.check(\"D\", view)).pack()\n",
        "        return view\n",
        "\n",
        "    def unpackView(self, view):\n",
        "        view.pack_forget()\n",
        "        askQuestion()\n",
        "\n",
        "\n",
        "def askQuestion():\n",
        "    global questions, window, index, button, right, number_of_questions\n",
        "    if(len(questions) == index + 1):\n",
        "        Label(window, text=\"Thank you for answering the questions. \" + str(right) + \" of \" + str(number_of_questions) + \"\\n questions answered right\").pack()\n",
        "        return\n",
        "    button.pack_forget()\n",
        "    index += 1\n",
        "    questions[index].getView(window).pack()\n",
        "\n",
        "\n",
        "questions = []\n",
        "file = open('/content/quiz-application/questions.txt', \"r\")\n",
        "line = file.readline()\n",
        "while(line != \"\"):\n",
        "    questionString = line\n",
        "    answers = []\n",
        "    for i in range(4):\n",
        "        answers.append(file.readline())\n",
        "    correctLetter = file.readline()\n",
        "    correctLetter = correctLetter[:-1]\n",
        "    questions.append(Question(questionString, answers, correctLetter))\n",
        "    line = file.readline()\n",
        "file.close()\n",
        "index = -1\n",
        "right = 0\n",
        "number_of_questions = len(questions)\n",
        "\n",
        "window = Tk()\n",
        "button = Button(window, text=\"Start\", command=askQuestion)\n",
        "button.pack()\n",
        "window.mainloop"
      ],
      "metadata": {
        "colab": {
          "base_uri": "https://localhost:8080/"
        },
        "id": "J8Wpz1bsQ2Ay",
        "outputId": "d2099408-d49f-4b7a-eb80-4702308bc734"
      },
      "execution_count": null,
      "outputs": [
        {
          "output_type": "execute_result",
          "data": {
            "text/plain": [
              "<bound method Misc.mainloop of <tkinter.Tk object .>>"
            ]
          },
          "metadata": {},
          "execution_count": 8
        }
      ]
    },
    {
      "cell_type": "code",
      "source": [
        "### CREATE VIRTUAL DISPLAY ###\n",
        "!apt-get install -y xvfb # Install X Virtual Frame Buffer\n",
        "import os\n",
        "os.system('Xvfb :1 -screen 0 1600x1200x16  &')    # create virtual display with size 1600x1200 and 16 bit color. Color can be changed to 24 or 8\n",
        "os.environ['DISPLAY']=':1.0'    # tell X clients to use our virtual DISPLAY :1.0."
      ],
      "metadata": {
        "colab": {
          "base_uri": "https://localhost:8080/"
        },
        "id": "raiAt79yRQFS",
        "outputId": "b910ff7e-fa23-45ef-f5ba-90b386608e12"
      },
      "execution_count": null,
      "outputs": [
        {
          "output_type": "stream",
          "name": "stdout",
          "text": [
            "Reading package lists... Done\n",
            "Building dependency tree       \n",
            "Reading state information... Done\n",
            "xvfb is already the newest version (2:1.19.6-1ubuntu4.10).\n",
            "0 upgraded, 0 newly installed, 0 to remove and 39 not upgraded.\n"
          ]
        }
      ]
    }
  ]
}